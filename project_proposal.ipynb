{
 "cells": [
  {
   "cell_type": "code",
   "execution_count": 2,
   "id": "5f8abd43-8cbf-4453-bab8-afa9d83bf6bc",
   "metadata": {},
   "outputs": [
    {
     "name": "stderr",
     "output_type": "stream",
     "text": [
      "── \u001b[1mAttaching packages\u001b[22m ─────────────────────────────────────── tidyverse 1.3.1 ──\n",
      "\n",
      "\u001b[32m✔\u001b[39m \u001b[34mggplot2\u001b[39m 3.3.6     \u001b[32m✔\u001b[39m \u001b[34mpurrr  \u001b[39m 0.3.4\n",
      "\u001b[32m✔\u001b[39m \u001b[34mtibble \u001b[39m 3.1.7     \u001b[32m✔\u001b[39m \u001b[34mdplyr  \u001b[39m 1.0.9\n",
      "\u001b[32m✔\u001b[39m \u001b[34mtidyr  \u001b[39m 1.2.0     \u001b[32m✔\u001b[39m \u001b[34mstringr\u001b[39m 1.4.0\n",
      "\u001b[32m✔\u001b[39m \u001b[34mreadr  \u001b[39m 2.1.2     \u001b[32m✔\u001b[39m \u001b[34mforcats\u001b[39m 0.5.1\n",
      "\n",
      "── \u001b[1mConflicts\u001b[22m ────────────────────────────────────────── tidyverse_conflicts() ──\n",
      "\u001b[31m✖\u001b[39m \u001b[34mdplyr\u001b[39m::\u001b[32mfilter()\u001b[39m masks \u001b[34mstats\u001b[39m::filter()\n",
      "\u001b[31m✖\u001b[39m \u001b[34mdplyr\u001b[39m::\u001b[32mlag()\u001b[39m    masks \u001b[34mstats\u001b[39m::lag()\n",
      "\n",
      "── \u001b[1mAttaching packages\u001b[22m ────────────────────────────────────── tidymodels 1.0.0 ──\n",
      "\n",
      "\u001b[32m✔\u001b[39m \u001b[34mbroom       \u001b[39m 1.0.0     \u001b[32m✔\u001b[39m \u001b[34mrsample     \u001b[39m 1.0.0\n",
      "\u001b[32m✔\u001b[39m \u001b[34mdials       \u001b[39m 1.0.0     \u001b[32m✔\u001b[39m \u001b[34mtune        \u001b[39m 1.0.0\n",
      "\u001b[32m✔\u001b[39m \u001b[34minfer       \u001b[39m 1.0.2     \u001b[32m✔\u001b[39m \u001b[34mworkflows   \u001b[39m 1.0.0\n",
      "\u001b[32m✔\u001b[39m \u001b[34mmodeldata   \u001b[39m 1.0.0     \u001b[32m✔\u001b[39m \u001b[34mworkflowsets\u001b[39m 1.0.0\n",
      "\u001b[32m✔\u001b[39m \u001b[34mparsnip     \u001b[39m 1.0.0     \u001b[32m✔\u001b[39m \u001b[34myardstick   \u001b[39m 1.0.0\n",
      "\u001b[32m✔\u001b[39m \u001b[34mrecipes     \u001b[39m 1.0.1     \n",
      "\n",
      "── \u001b[1mConflicts\u001b[22m ───────────────────────────────────────── tidymodels_conflicts() ──\n",
      "\u001b[31m✖\u001b[39m \u001b[34mscales\u001b[39m::\u001b[32mdiscard()\u001b[39m masks \u001b[34mpurrr\u001b[39m::discard()\n",
      "\u001b[31m✖\u001b[39m \u001b[34mdplyr\u001b[39m::\u001b[32mfilter()\u001b[39m   masks \u001b[34mstats\u001b[39m::filter()\n",
      "\u001b[31m✖\u001b[39m \u001b[34mrecipes\u001b[39m::\u001b[32mfixed()\u001b[39m  masks \u001b[34mstringr\u001b[39m::fixed()\n",
      "\u001b[31m✖\u001b[39m \u001b[34mdplyr\u001b[39m::\u001b[32mlag()\u001b[39m      masks \u001b[34mstats\u001b[39m::lag()\n",
      "\u001b[31m✖\u001b[39m \u001b[34myardstick\u001b[39m::\u001b[32mspec()\u001b[39m masks \u001b[34mreadr\u001b[39m::spec()\n",
      "\u001b[31m✖\u001b[39m \u001b[34mrecipes\u001b[39m::\u001b[32mstep()\u001b[39m   masks \u001b[34mstats\u001b[39m::step()\n",
      "\u001b[34m•\u001b[39m Use \u001b[32mtidymodels_prefer()\u001b[39m to resolve common conflicts.\n",
      "\n",
      "Warning message in file(filename, \"r\", encoding = encoding):\n",
      "“cannot open file 'tests.R': No such file or directory”\n"
     ]
    },
    {
     "ename": "ERROR",
     "evalue": "Error in file(filename, \"r\", encoding = encoding): cannot open the connection\n",
     "output_type": "error",
     "traceback": [
      "Error in file(filename, \"r\", encoding = encoding): cannot open the connection\nTraceback:\n",
      "1. source(\"tests.R\")",
      "2. file(filename, \"r\", encoding = encoding)"
     ]
    }
   ],
   "source": [
    "library(repr)\n",
    "library(tidyverse)\n",
    "library(tidymodels)\n",
    "options(repr.matrix.max.rows = 6)\n",
    "source('tests.R')\n",
    "source(\"cleanup.R\")\n",
    "\n"
   ]
  },
  {
   "cell_type": "code",
   "execution_count": 4,
   "id": "d349b9d1-9ca3-4411-a24b-06712c867f76",
   "metadata": {},
   "outputs": [
    {
     "data": {
      "text/html": [
       "<table class=\"dataframe\">\n",
       "<caption>A data.frame: 768 × 9</caption>\n",
       "<thead>\n",
       "\t<tr><th scope=col>Pregnancies</th><th scope=col>Glucose</th><th scope=col>BloodPressure</th><th scope=col>SkinThickness</th><th scope=col>Insulin</th><th scope=col>BMI</th><th scope=col>DiabetesPedigreeFunction</th><th scope=col>Age</th><th scope=col>Outcome</th></tr>\n",
       "\t<tr><th scope=col>&lt;int&gt;</th><th scope=col>&lt;int&gt;</th><th scope=col>&lt;int&gt;</th><th scope=col>&lt;int&gt;</th><th scope=col>&lt;int&gt;</th><th scope=col>&lt;dbl&gt;</th><th scope=col>&lt;dbl&gt;</th><th scope=col>&lt;int&gt;</th><th scope=col>&lt;int&gt;</th></tr>\n",
       "</thead>\n",
       "<tbody>\n",
       "\t<tr><td>6</td><td>148</td><td>72</td><td>35</td><td>0</td><td>33.6</td><td>0.627</td><td>50</td><td>1</td></tr>\n",
       "\t<tr><td>1</td><td> 85</td><td>66</td><td>29</td><td>0</td><td>26.6</td><td>0.351</td><td>31</td><td>0</td></tr>\n",
       "\t<tr><td>8</td><td>183</td><td>64</td><td> 0</td><td>0</td><td>23.3</td><td>0.672</td><td>32</td><td>1</td></tr>\n",
       "\t<tr><td>⋮</td><td>⋮</td><td>⋮</td><td>⋮</td><td>⋮</td><td>⋮</td><td>⋮</td><td>⋮</td><td>⋮</td></tr>\n",
       "\t<tr><td>5</td><td>121</td><td>72</td><td>23</td><td>112</td><td>26.2</td><td>0.245</td><td>30</td><td>0</td></tr>\n",
       "\t<tr><td>1</td><td>126</td><td>60</td><td> 0</td><td>  0</td><td>30.1</td><td>0.349</td><td>47</td><td>1</td></tr>\n",
       "\t<tr><td>1</td><td> 93</td><td>70</td><td>31</td><td>  0</td><td>30.4</td><td>0.315</td><td>23</td><td>0</td></tr>\n",
       "</tbody>\n",
       "</table>\n"
      ],
      "text/latex": [
       "A data.frame: 768 × 9\n",
       "\\begin{tabular}{lllllllll}\n",
       " Pregnancies & Glucose & BloodPressure & SkinThickness & Insulin & BMI & DiabetesPedigreeFunction & Age & Outcome\\\\\n",
       " <int> & <int> & <int> & <int> & <int> & <dbl> & <dbl> & <int> & <int>\\\\\n",
       "\\hline\n",
       "\t 6 & 148 & 72 & 35 & 0 & 33.6 & 0.627 & 50 & 1\\\\\n",
       "\t 1 &  85 & 66 & 29 & 0 & 26.6 & 0.351 & 31 & 0\\\\\n",
       "\t 8 & 183 & 64 &  0 & 0 & 23.3 & 0.672 & 32 & 1\\\\\n",
       "\t ⋮ & ⋮ & ⋮ & ⋮ & ⋮ & ⋮ & ⋮ & ⋮ & ⋮\\\\\n",
       "\t 5 & 121 & 72 & 23 & 112 & 26.2 & 0.245 & 30 & 0\\\\\n",
       "\t 1 & 126 & 60 &  0 &   0 & 30.1 & 0.349 & 47 & 1\\\\\n",
       "\t 1 &  93 & 70 & 31 &   0 & 30.4 & 0.315 & 23 & 0\\\\\n",
       "\\end{tabular}\n"
      ],
      "text/markdown": [
       "\n",
       "A data.frame: 768 × 9\n",
       "\n",
       "| Pregnancies &lt;int&gt; | Glucose &lt;int&gt; | BloodPressure &lt;int&gt; | SkinThickness &lt;int&gt; | Insulin &lt;int&gt; | BMI &lt;dbl&gt; | DiabetesPedigreeFunction &lt;dbl&gt; | Age &lt;int&gt; | Outcome &lt;int&gt; |\n",
       "|---|---|---|---|---|---|---|---|---|\n",
       "| 6 | 148 | 72 | 35 | 0 | 33.6 | 0.627 | 50 | 1 |\n",
       "| 1 |  85 | 66 | 29 | 0 | 26.6 | 0.351 | 31 | 0 |\n",
       "| 8 | 183 | 64 |  0 | 0 | 23.3 | 0.672 | 32 | 1 |\n",
       "| ⋮ | ⋮ | ⋮ | ⋮ | ⋮ | ⋮ | ⋮ | ⋮ | ⋮ |\n",
       "| 5 | 121 | 72 | 23 | 112 | 26.2 | 0.245 | 30 | 0 |\n",
       "| 1 | 126 | 60 |  0 |   0 | 30.1 | 0.349 | 47 | 1 |\n",
       "| 1 |  93 | 70 | 31 |   0 | 30.4 | 0.315 | 23 | 0 |\n",
       "\n"
      ],
      "text/plain": [
       "    Pregnancies Glucose BloodPressure SkinThickness Insulin BMI \n",
       "1   6           148     72            35            0       33.6\n",
       "2   1            85     66            29            0       26.6\n",
       "3   8           183     64             0            0       23.3\n",
       "⋮   ⋮           ⋮       ⋮             ⋮             ⋮       ⋮   \n",
       "766 5           121     72            23            112     26.2\n",
       "767 1           126     60             0              0     30.1\n",
       "768 1            93     70            31              0     30.4\n",
       "    DiabetesPedigreeFunction Age Outcome\n",
       "1   0.627                    50  1      \n",
       "2   0.351                    31  0      \n",
       "3   0.672                    32  1      \n",
       "⋮   ⋮                        ⋮   ⋮      \n",
       "766 0.245                    30  0      \n",
       "767 0.349                    47  1      \n",
       "768 0.315                    23  0      "
      ]
     },
     "metadata": {},
     "output_type": "display_data"
    }
   ],
   "source": [
    "diabetes_data <- read.csv(\"diabetes.csv\")\n",
    "diabetes_data"
   ]
  },
  {
   "cell_type": "code",
   "execution_count": 5,
   "id": "d6b5979b-2e0d-41ac-8828-36582e6417b4",
   "metadata": {},
   "outputs": [
    {
     "data": {
      "text/html": [
       "<table class=\"dataframe\">\n",
       "<caption>A data.frame: 768 × 4</caption>\n",
       "<thead>\n",
       "\t<tr><th scope=col>Patient_number</th><th scope=col>Glucose</th><th scope=col>Insulin</th><th scope=col>Outcome</th></tr>\n",
       "\t<tr><th scope=col>&lt;int&gt;</th><th scope=col>&lt;int&gt;</th><th scope=col>&lt;int&gt;</th><th scope=col>&lt;int&gt;</th></tr>\n",
       "</thead>\n",
       "<tbody>\n",
       "\t<tr><td>1</td><td>148</td><td>0</td><td>1</td></tr>\n",
       "\t<tr><td>2</td><td> 85</td><td>0</td><td>0</td></tr>\n",
       "\t<tr><td>3</td><td>183</td><td>0</td><td>1</td></tr>\n",
       "\t<tr><td>⋮</td><td>⋮</td><td>⋮</td><td>⋮</td></tr>\n",
       "\t<tr><td>766</td><td>121</td><td>112</td><td>0</td></tr>\n",
       "\t<tr><td>767</td><td>126</td><td>  0</td><td>1</td></tr>\n",
       "\t<tr><td>768</td><td> 93</td><td>  0</td><td>0</td></tr>\n",
       "</tbody>\n",
       "</table>\n"
      ],
      "text/latex": [
       "A data.frame: 768 × 4\n",
       "\\begin{tabular}{llll}\n",
       " Patient\\_number & Glucose & Insulin & Outcome\\\\\n",
       " <int> & <int> & <int> & <int>\\\\\n",
       "\\hline\n",
       "\t 1 & 148 & 0 & 1\\\\\n",
       "\t 2 &  85 & 0 & 0\\\\\n",
       "\t 3 & 183 & 0 & 1\\\\\n",
       "\t ⋮ & ⋮ & ⋮ & ⋮\\\\\n",
       "\t 766 & 121 & 112 & 0\\\\\n",
       "\t 767 & 126 &   0 & 1\\\\\n",
       "\t 768 &  93 &   0 & 0\\\\\n",
       "\\end{tabular}\n"
      ],
      "text/markdown": [
       "\n",
       "A data.frame: 768 × 4\n",
       "\n",
       "| Patient_number &lt;int&gt; | Glucose &lt;int&gt; | Insulin &lt;int&gt; | Outcome &lt;int&gt; |\n",
       "|---|---|---|---|\n",
       "| 1 | 148 | 0 | 1 |\n",
       "| 2 |  85 | 0 | 0 |\n",
       "| 3 | 183 | 0 | 1 |\n",
       "| ⋮ | ⋮ | ⋮ | ⋮ |\n",
       "| 766 | 121 | 112 | 0 |\n",
       "| 767 | 126 |   0 | 1 |\n",
       "| 768 |  93 |   0 | 0 |\n",
       "\n"
      ],
      "text/plain": [
       "    Patient_number Glucose Insulin Outcome\n",
       "1   1              148     0       1      \n",
       "2   2               85     0       0      \n",
       "3   3              183     0       1      \n",
       "⋮   ⋮              ⋮       ⋮       ⋮      \n",
       "766 766            121     112     0      \n",
       "767 767            126       0     1      \n",
       "768 768             93       0     0      "
      ]
     },
     "metadata": {},
     "output_type": "display_data"
    }
   ],
   "source": [
    "diabetes_data$Patient_number <- seq.int(nrow(diabetes_data)) \n",
    "\n",
    "diabetes_select <- select(diabetes_data, Patient_number, Glucose, Insulin, Outcome)\n",
    "diabetes_select"
   ]
  },
  {
   "cell_type": "code",
   "execution_count": 11,
   "id": "e185f513-a689-4aa4-89e8-dee57327cd66",
   "metadata": {},
   "outputs": [
    {
     "data": {
      "text/html": [
       "<table class=\"dataframe\">\n",
       "<caption>A tibble: 2 × 2</caption>\n",
       "<thead>\n",
       "\t<tr><th scope=col>Outcome</th><th scope=col>number_of_cases</th></tr>\n",
       "\t<tr><th scope=col>&lt;fct&gt;</th><th scope=col>&lt;int&gt;</th></tr>\n",
       "</thead>\n",
       "<tbody>\n",
       "\t<tr><td>0</td><td>500</td></tr>\n",
       "\t<tr><td>1</td><td>268</td></tr>\n",
       "</tbody>\n",
       "</table>\n"
      ],
      "text/latex": [
       "A tibble: 2 × 2\n",
       "\\begin{tabular}{ll}\n",
       " Outcome & number\\_of\\_cases\\\\\n",
       " <fct> & <int>\\\\\n",
       "\\hline\n",
       "\t 0 & 500\\\\\n",
       "\t 1 & 268\\\\\n",
       "\\end{tabular}\n"
      ],
      "text/markdown": [
       "\n",
       "A tibble: 2 × 2\n",
       "\n",
       "| Outcome &lt;fct&gt; | number_of_cases &lt;int&gt; |\n",
       "|---|---|\n",
       "| 0 | 500 |\n",
       "| 1 | 268 |\n",
       "\n"
      ],
      "text/plain": [
       "  Outcome number_of_cases\n",
       "1 0       500            \n",
       "2 1       268            "
      ]
     },
     "metadata": {},
     "output_type": "display_data"
    },
    {
     "data": {
      "text/html": [
       "<table class=\"dataframe\">\n",
       "<caption>A tibble: 2 × 3</caption>\n",
       "<thead>\n",
       "\t<tr><th scope=col>Outcome</th><th scope=col>Glucose</th><th scope=col>Insulin</th></tr>\n",
       "\t<tr><th scope=col>&lt;fct&gt;</th><th scope=col>&lt;dbl&gt;</th><th scope=col>&lt;dbl&gt;</th></tr>\n",
       "</thead>\n",
       "<tbody>\n",
       "\t<tr><td>0</td><td>109.9800</td><td> 68.7920</td></tr>\n",
       "\t<tr><td>1</td><td>141.2575</td><td>100.3358</td></tr>\n",
       "</tbody>\n",
       "</table>\n"
      ],
      "text/latex": [
       "A tibble: 2 × 3\n",
       "\\begin{tabular}{lll}\n",
       " Outcome & Glucose & Insulin\\\\\n",
       " <fct> & <dbl> & <dbl>\\\\\n",
       "\\hline\n",
       "\t 0 & 109.9800 &  68.7920\\\\\n",
       "\t 1 & 141.2575 & 100.3358\\\\\n",
       "\\end{tabular}\n"
      ],
      "text/markdown": [
       "\n",
       "A tibble: 2 × 3\n",
       "\n",
       "| Outcome &lt;fct&gt; | Glucose &lt;dbl&gt; | Insulin &lt;dbl&gt; |\n",
       "|---|---|---|\n",
       "| 0 | 109.9800 |  68.7920 |\n",
       "| 1 | 141.2575 | 100.3358 |\n",
       "\n"
      ],
      "text/plain": [
       "  Outcome Glucose  Insulin \n",
       "1 0       109.9800  68.7920\n",
       "2 1       141.2575 100.3358"
      ]
     },
     "metadata": {},
     "output_type": "display_data"
    },
    {
     "data": {
      "text/html": [
       "<table class=\"dataframe\">\n",
       "<caption>A data.frame: 576 × 4</caption>\n",
       "<thead>\n",
       "\t<tr><th></th><th scope=col>Patient_number</th><th scope=col>Glucose</th><th scope=col>Insulin</th><th scope=col>Outcome</th></tr>\n",
       "\t<tr><th></th><th scope=col>&lt;int&gt;</th><th scope=col>&lt;int&gt;</th><th scope=col>&lt;int&gt;</th><th scope=col>&lt;fct&gt;</th></tr>\n",
       "</thead>\n",
       "<tbody>\n",
       "\t<tr><th scope=row>2</th><td>2</td><td> 85</td><td> 0</td><td>0</td></tr>\n",
       "\t<tr><th scope=row>4</th><td>4</td><td> 89</td><td>94</td><td>0</td></tr>\n",
       "\t<tr><th scope=row>6</th><td>6</td><td>116</td><td> 0</td><td>0</td></tr>\n",
       "\t<tr><th scope=row>⋮</th><td>⋮</td><td>⋮</td><td>⋮</td><td>⋮</td></tr>\n",
       "\t<tr><th scope=row>756</th><td>756</td><td>128</td><td>110</td><td>1</td></tr>\n",
       "\t<tr><th scope=row>758</th><td>758</td><td>123</td><td>  0</td><td>1</td></tr>\n",
       "\t<tr><th scope=row>760</th><td>760</td><td>190</td><td>  0</td><td>1</td></tr>\n",
       "</tbody>\n",
       "</table>\n"
      ],
      "text/latex": [
       "A data.frame: 576 × 4\n",
       "\\begin{tabular}{r|llll}\n",
       "  & Patient\\_number & Glucose & Insulin & Outcome\\\\\n",
       "  & <int> & <int> & <int> & <fct>\\\\\n",
       "\\hline\n",
       "\t2 & 2 &  85 &  0 & 0\\\\\n",
       "\t4 & 4 &  89 & 94 & 0\\\\\n",
       "\t6 & 6 & 116 &  0 & 0\\\\\n",
       "\t⋮ & ⋮ & ⋮ & ⋮ & ⋮\\\\\n",
       "\t756 & 756 & 128 & 110 & 1\\\\\n",
       "\t758 & 758 & 123 &   0 & 1\\\\\n",
       "\t760 & 760 & 190 &   0 & 1\\\\\n",
       "\\end{tabular}\n"
      ],
      "text/markdown": [
       "\n",
       "A data.frame: 576 × 4\n",
       "\n",
       "| <!--/--> | Patient_number &lt;int&gt; | Glucose &lt;int&gt; | Insulin &lt;int&gt; | Outcome &lt;fct&gt; |\n",
       "|---|---|---|---|---|\n",
       "| 2 | 2 |  85 |  0 | 0 |\n",
       "| 4 | 4 |  89 | 94 | 0 |\n",
       "| 6 | 6 | 116 |  0 | 0 |\n",
       "| ⋮ | ⋮ | ⋮ | ⋮ | ⋮ |\n",
       "| 756 | 756 | 128 | 110 | 1 |\n",
       "| 758 | 758 | 123 |   0 | 1 |\n",
       "| 760 | 760 | 190 |   0 | 1 |\n",
       "\n"
      ],
      "text/plain": [
       "    Patient_number Glucose Insulin Outcome\n",
       "2   2               85      0      0      \n",
       "4   4               89     94      0      \n",
       "6   6              116      0      0      \n",
       "⋮   ⋮              ⋮       ⋮       ⋮      \n",
       "756 756            128     110     1      \n",
       "758 758            123       0     1      \n",
       "760 760            190       0     1      "
      ]
     },
     "metadata": {},
     "output_type": "display_data"
    },
    {
     "data": {
      "text/html": [
       "<table class=\"dataframe\">\n",
       "<caption>A data.frame: 192 × 4</caption>\n",
       "<thead>\n",
       "\t<tr><th></th><th scope=col>Patient_number</th><th scope=col>Glucose</th><th scope=col>Insulin</th><th scope=col>Outcome</th></tr>\n",
       "\t<tr><th></th><th scope=col>&lt;int&gt;</th><th scope=col>&lt;int&gt;</th><th scope=col>&lt;int&gt;</th><th scope=col>&lt;fct&gt;</th></tr>\n",
       "</thead>\n",
       "<tbody>\n",
       "\t<tr><th scope=row>1</th><td> 1</td><td>148</td><td>  0</td><td>1</td></tr>\n",
       "\t<tr><th scope=row>10</th><td>10</td><td>125</td><td>  0</td><td>1</td></tr>\n",
       "\t<tr><th scope=row>14</th><td>14</td><td>189</td><td>846</td><td>1</td></tr>\n",
       "\t<tr><th scope=row>⋮</th><td>⋮</td><td>⋮</td><td>⋮</td><td>⋮</td></tr>\n",
       "\t<tr><th scope=row>764</th><td>764</td><td>101</td><td>180</td><td>0</td></tr>\n",
       "\t<tr><th scope=row>767</th><td>767</td><td>126</td><td>  0</td><td>1</td></tr>\n",
       "\t<tr><th scope=row>768</th><td>768</td><td> 93</td><td>  0</td><td>0</td></tr>\n",
       "</tbody>\n",
       "</table>\n"
      ],
      "text/latex": [
       "A data.frame: 192 × 4\n",
       "\\begin{tabular}{r|llll}\n",
       "  & Patient\\_number & Glucose & Insulin & Outcome\\\\\n",
       "  & <int> & <int> & <int> & <fct>\\\\\n",
       "\\hline\n",
       "\t1 &  1 & 148 &   0 & 1\\\\\n",
       "\t10 & 10 & 125 &   0 & 1\\\\\n",
       "\t14 & 14 & 189 & 846 & 1\\\\\n",
       "\t⋮ & ⋮ & ⋮ & ⋮ & ⋮\\\\\n",
       "\t764 & 764 & 101 & 180 & 0\\\\\n",
       "\t767 & 767 & 126 &   0 & 1\\\\\n",
       "\t768 & 768 &  93 &   0 & 0\\\\\n",
       "\\end{tabular}\n"
      ],
      "text/markdown": [
       "\n",
       "A data.frame: 192 × 4\n",
       "\n",
       "| <!--/--> | Patient_number &lt;int&gt; | Glucose &lt;int&gt; | Insulin &lt;int&gt; | Outcome &lt;fct&gt; |\n",
       "|---|---|---|---|---|\n",
       "| 1 |  1 | 148 |   0 | 1 |\n",
       "| 10 | 10 | 125 |   0 | 1 |\n",
       "| 14 | 14 | 189 | 846 | 1 |\n",
       "| ⋮ | ⋮ | ⋮ | ⋮ | ⋮ |\n",
       "| 764 | 764 | 101 | 180 | 0 |\n",
       "| 767 | 767 | 126 |   0 | 1 |\n",
       "| 768 | 768 |  93 |   0 | 0 |\n",
       "\n"
      ],
      "text/plain": [
       "    Patient_number Glucose Insulin Outcome\n",
       "1    1             148       0     1      \n",
       "10  10             125       0     1      \n",
       "14  14             189     846     1      \n",
       "⋮   ⋮              ⋮       ⋮       ⋮      \n",
       "764 764            101     180     0      \n",
       "767 767            126       0     1      \n",
       "768 768             93       0     0      "
      ]
     },
     "metadata": {},
     "output_type": "display_data"
    }
   ],
   "source": [
    "diabetes_count_case<-group_by(diabetes_select,Outcome) |>\n",
    "    summarize(number_of_cases=n())\n",
    "diabetes_count_case\n",
    "\n",
    "diabetes_indicator_mean<-group_by(diabetes_select, Outcome) |>\n",
    "    summarize(across(Glucose:Insulin, mean))\n",
    "diabetes_indicator_mean\n",
    "\n",
    "diabetes_select <- mutate(diabetes_select, Outcome=as_factor(Outcome))\n",
    "diabetes_split <- initial_split(diabetes_select, prop = 0.75, strata = Outcome)  \n",
    "diabetes_train <- training(diabetes_split)   \n",
    "diabetes_test <- testing(diabetes_split)\n",
    "\n",
    "diabetes_train\n",
    "diabetes_test"
   ]
  },
  {
   "cell_type": "code",
   "execution_count": null,
   "id": "d8645cc5-9ad3-4a36-8977-875cb2c5ed3f",
   "metadata": {},
   "outputs": [],
   "source": []
  }
 ],
 "metadata": {
  "kernelspec": {
   "display_name": "R",
   "language": "R",
   "name": "ir"
  },
  "language_info": {
   "codemirror_mode": "r",
   "file_extension": ".r",
   "mimetype": "text/x-r-source",
   "name": "R",
   "pygments_lexer": "r",
   "version": "4.1.3"
  }
 },
 "nbformat": 4,
 "nbformat_minor": 5
}
