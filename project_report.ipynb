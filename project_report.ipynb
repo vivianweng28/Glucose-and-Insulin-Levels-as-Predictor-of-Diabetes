{
 "cells": [
  {
   "cell_type": "code",
   "execution_count": null,
   "id": "0697fe94-885e-43ca-9016-efd71c24559f",
   "metadata": {},
   "outputs": [],
   "source": []
  }
 ],
 "metadata": {
  "kernelspec": {
   "display_name": "R",
   "language": "R",
   "name": "ir"
  },
  "language_info": {
   "codemirror_mode": "r",
   "file_extension": ".r",
   "mimetype": "text/x-r-source",
   "name": "R",
   "pygments_lexer": "r",
   "version": "4.1.3"
  }
 },
 "nbformat": 4,
 "nbformat_minor": 5
}
