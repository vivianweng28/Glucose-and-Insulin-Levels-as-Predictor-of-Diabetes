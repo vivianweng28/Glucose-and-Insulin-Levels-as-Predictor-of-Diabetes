{
 "cells": [
  {
   "cell_type": "markdown",
   "id": "77dc1f29-b75a-488f-a671-b81109fc2252",
   "metadata": {},
   "source": [
    "This is the notebook used for the project"
   ]
  }
 ],
 "metadata": {
  "kernelspec": {
   "display_name": "R",
   "language": "R",
   "name": "ir"
  },
  "language_info": {
   "codemirror_mode": "r",
   "file_extension": ".r",
   "mimetype": "text/x-r-source",
   "name": "R",
   "pygments_lexer": "r",
   "version": "4.1.3"
  }
 },
 "nbformat": 4,
 "nbformat_minor": 5
}
